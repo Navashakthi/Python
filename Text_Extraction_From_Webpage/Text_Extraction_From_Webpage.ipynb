#Import Python Modules
import requests
import re
from bs4 import BeautifulSoup, Comment
import pandas as pd
import os
import html
from urllib.request import urlopen

url = 'https://ai.google/tools/'
page = requests.get(url)
soup = BeautifulSoup(page.content, 'html.parser')
file_name = "".join(re.findall("[0-9a-zA-Z]",(url.rsplit('//',1)[-1])))
print(file_name)

with open("{}.txt".format(file_name), 'a', encoding='utf-8') as outtext:
    outtext.write(str(soup.prettify()))