{
 "cells": [
  {
   "cell_type": "markdown",
   "metadata": {},
   "source": [
    "### Download PDF from URL"
   ]
  },
  {
   "cell_type": "markdown",
   "metadata": {},
   "source": [
    "Check if a link consists of downloadable pdf's and download them"
   ]
  },
  {
   "cell_type": "code",
   "execution_count": 2,
   "metadata": {},
   "outputs": [],
   "source": [
    "#Import python modules\n",
    "import requests\n",
    "import re\n",
    "from bs4 import BeautifulSoup, Comment\n",
    "import pandas as pd\n",
    "import numpy as np\n",
    "import os\n",
    "import glob\n",
    "from urllib.request import urlopen\n",
    "from itertools import islice"
   ]
  },
  {
   "cell_type": "code",
   "execution_count": 16,
   "metadata": {},
   "outputs": [],
   "source": [
    "Input_URL = 'https://uwaterloo.ca/scholar/sites/ca.scholar/files/mcrowley/files/engcon2017_-_finalpresented.pdf'\n",
    "#Output_path = 'D:/Downloads/PDF_Documents'"
   ]
  },
  {
   "cell_type": "code",
   "execution_count": 17,
   "metadata": {},
   "outputs": [
    {
     "name": "stdout",
     "output_type": "stream",
     "text": [
      "engcon2017_-_finalpresented.pdf\n"
     ]
    }
   ],
   "source": [
    "pdf_name = Input_URL.rsplit('/')[-1]\n",
    "print(pdf_name)"
   ]
  },
  {
   "cell_type": "code",
   "execution_count": 19,
   "metadata": {},
   "outputs": [
    {
     "name": "stdout",
     "output_type": "stream",
     "text": [
      "engcon2017_-_finalpresented.pdf Accepted\n"
     ]
    }
   ],
   "source": [
    "response = requests.get(Input_URL)\n",
    "content_type = response.headers.get('content-type')\n",
    "if 'application/pdf' in content_type:\n",
    "    print(pdf_name+\" Accepted\")\n",
    "    with open(\"{}\\{}.pdf\".format(Output_path, pdf_name), 'wb') as f:\n",
    "        f.write(response.content)"
   ]
  }
 ],
 "metadata": {
  "kernelspec": {
   "display_name": "Python 3",
   "language": "python",
   "name": "python3"
  },
  "language_info": {
   "codemirror_mode": {
    "name": "ipython",
    "version": 3
   },
   "file_extension": ".py",
   "mimetype": "text/x-python",
   "name": "python",
   "nbconvert_exporter": "python",
   "pygments_lexer": "ipython3",
   "version": "3.7.1"
  }
 },
 "nbformat": 4,
 "nbformat_minor": 2
}
